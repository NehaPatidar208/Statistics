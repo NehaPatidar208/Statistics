{
 "cells": [
  {
   "cell_type": "code",
   "execution_count": 2,
   "metadata": {},
   "outputs": [
    {
     "name": "stdout",
     "output_type": "stream",
     "text": [
      "3\n",
      "Enter elements for items seperated by ,(comma)2,3,4\n",
      "enter elements for weight seperated by ,(comma)1,2,3\n",
      "3.3\n"
     ]
    }
   ],
   "source": [
    "n=int(input());                                  #taking input for no of elements in array\n",
    "l1=list(map(int,input(\"Enter elements for items seperated by ,(comma)\").split(\",\")))                \n",
    "l2=list(map(int,input(\"enter elements for weight seperated by ,(comma)\").split(\",\")))\n",
    "s=0                                              # s for  sumation of l1*l2\n",
    "p=0                                              # for sumation of weight\n",
    "for i in range(n):\n",
    "    s=s+(l1[i]*l2[i])                             #calculating sumation if l1*l2\n",
    "    p=p+l2[i]\n",
    "print('{0:.1f}'.format(s/p))                     #print weighted mean\n"
   ]
  },
  {
   "cell_type": "code",
   "execution_count": null,
   "metadata": {},
   "outputs": [],
   "source": []
  }
 ],
 "metadata": {
  "kernelspec": {
   "display_name": "Python 3",
   "language": "python",
   "name": "python3"
  },
  "language_info": {
   "codemirror_mode": {
    "name": "ipython",
    "version": 3
   },
   "file_extension": ".py",
   "mimetype": "text/x-python",
   "name": "python",
   "nbconvert_exporter": "python",
   "pygments_lexer": "ipython3",
   "version": "3.7.3"
  }
 },
 "nbformat": 4,
 "nbformat_minor": 2
}
