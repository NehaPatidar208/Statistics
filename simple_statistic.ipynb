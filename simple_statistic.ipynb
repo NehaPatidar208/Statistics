{
 "cells": [
  {
   "cell_type": "code",
   "execution_count": 1,
   "metadata": {},
   "outputs": [
    {
     "name": "stdout",
     "output_type": "stream",
     "text": [
      "Enetr length of array5\n",
      "enter elements seperated by ,(comma)1,2,3,4,5,6\n",
      "3.5\n",
      "3.5\n",
      "1\n"
     ]
    }
   ],
   "source": [
    "# Enter your code here. Read input from STDIN. Print output to STDOUT\n",
    "\n",
    "import numpy as np     #import numpy for use mean and mode\n",
    "\n",
    "n=int(input(\"Enetr length of array\"))            #taking input for length of array/list\n",
    "ar=list(map(int,input(\"enter elements seperated by ,(comma)\").split(\",\")))  #taking input elements for list and creating list of input\n",
    "print(np.mean(ar))        #print mean of array\n",
    "print(np.median(ar))       #print median of array\n",
    "print(max(sorted(ar),key=ar.count))  #print mode of array"
   ]
  },
  {
   "cell_type": "code",
   "execution_count": null,
   "metadata": {},
   "outputs": [],
   "source": []
  }
 ],
 "metadata": {
  "kernelspec": {
   "display_name": "Python 3",
   "language": "python",
   "name": "python3"
  },
  "language_info": {
   "codemirror_mode": {
    "name": "ipython",
    "version": 3
   },
   "file_extension": ".py",
   "mimetype": "text/x-python",
   "name": "python",
   "nbconvert_exporter": "python",
   "pygments_lexer": "ipython3",
   "version": "3.7.3"
  }
 },
 "nbformat": 4,
 "nbformat_minor": 2
}
